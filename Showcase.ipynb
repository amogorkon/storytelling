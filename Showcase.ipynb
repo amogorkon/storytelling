{
 "cells": [
  {
   "cell_type": "markdown",
   "metadata": {
    "collapsed": true,
    "deletable": true,
    "editable": true
   },
   "source": [
    "The holy grail of game immersion. Usually in online games there are quests that are the same for every single player. This of course allows for easy testing and balancing - everyone gets the same reward and the same story. It's also the most immersion breaking and the only way to create a feeling of \"uniqueness\" (\"oh, great warrior you're the only one who can help me!\" while a dozen other players do exactly the same thing) is to use instances (\"bubbles\" or \"rooms\") to temporary remove the presence of other players.\n",
    "\n",
    "Writing and testing quests is a very time consuming process, possibly the most time consuming process in creating a game since there's no clear line on how much dialogue and quests are enough or how many of them the player actually will see.\n",
    "\n",
    "So, I suggest a radically new approach. Inspired by the interactive storyteller of Rimworld, it should be possible to build a procedural storyteller for PL. This should solve a number of common problems: every player will get different quests with different stories - all the time with no \"cheating\" via instances. It also will contribute to build a rich world where actions have consequences and players can actually change things.\n",
    "On the other side, Game Masters will be empowered to tell their own stories and the game will remember and retell it in its own way."
   ]
  },
  {
   "cell_type": "markdown",
   "metadata": {},
   "source": [
    "Let's get technical. The main idea here is to first DATAFY ALL THE THINGS by extensively using the trait/bag system to literally keep track of any changes within the world.\n",
    "So, what's next? Stories are built from building blocks called \"tropes\". http://tvtropes.org/ is an excellent source for tropes used in stories told on any media. A trope corresponds to the idea of a \"strategy\". To produce interesting stories, there must exist a mechanism to select a trope at (weighted) random.\n",
    "Since dialogues are hard (and not solvable for the next 50 years), lets focus on a simpler way to tell our stories.\n",
    "\n",
    "If you consider a classical \"quest\", it consists of two parts: a device (\"background story\" or \"reason\") and a task (\"what must be done\") for the player. Why should the player do something? Because something happened that created a certain need. Someone got sick? Get medicine. A bug infestation? Kill the bugs. An invasion? Assassinate the leader.\n",
    "\n",
    "The basic way to achieve this is by implementing a kind of markov chain that uses the state of the whole world. An interesting story takes into account what happened earlier in the story to pick it up and vary later - how to do that if it's a markov chain where only the present state determines the next? Simple: consider that the \"memory\" of past events is part of the present, not the past events themselves. Abstraction is key. There is one obvious way to try to realize this approach: a triplestore and queries.\n",
    "\n",
    "I've experimented with triplestores before, but not in the context of flux and traitbags. This might get interesting. Since we use traitbags, we don't need the store to keep track of simple numeric (bag with tokens) or boolean (traits) data related to only one entity. Instead, we'll use the store to model relationships between entities."
   ]
  }
 ],
 "metadata": {
  "anaconda-cloud": {},
  "kernelspec": {
   "display_name": "Python 3",
   "language": "python",
   "name": "python3"
  },
  "language_info": {
   "codemirror_mode": {
    "name": "ipython",
    "version": 3
   },
   "file_extension": ".py",
   "mimetype": "text/x-python",
   "name": "python",
   "nbconvert_exporter": "python",
   "pygments_lexer": "ipython3",
   "version": "3.6.0b2"
  }
 },
 "nbformat": 4,
 "nbformat_minor": 0
}
